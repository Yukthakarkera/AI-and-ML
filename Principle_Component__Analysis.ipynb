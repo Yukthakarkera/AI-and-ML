{
  "nbformat": 4,
  "nbformat_minor": 0,
  "metadata": {
    "colab": {
      "provenance": [],
      "authorship_tag": "ABX9TyPOMtHeugqtg1A09LsWQf6+",
      "include_colab_link": true
    },
    "kernelspec": {
      "name": "python3",
      "display_name": "Python 3"
    },
    "language_info": {
      "name": "python"
    }
  },
  "cells": [
    {
      "cell_type": "markdown",
      "metadata": {
        "id": "view-in-github",
        "colab_type": "text"
      },
      "source": [
        "<a href=\"https://colab.research.google.com/github/Yukthakarkera/AI-and-ML/blob/main/Principle_Component__Analysis.ipynb\" target=\"_parent\"><img src=\"https://colab.research.google.com/assets/colab-badge.svg\" alt=\"Open In Colab\"/></a>"
      ]
    },
    {
      "cell_type": "code",
      "execution_count": 1,
      "metadata": {
        "id": "QX8qQxZ0_6Ou"
      },
      "outputs": [],
      "source": [
        "#import libraries\n",
        "import numpy as np\n",
        "import pandas as pd\n",
        "import matplotlib.pyplot as plt"
      ]
    },
    {
      "cell_type": "code",
      "source": [
        "data=pd.read_csv(\"/content/exe1data.txt\")\n",
        "print(data)"
      ],
      "metadata": {
        "colab": {
          "base_uri": "https://localhost:8080/"
        },
        "id": "Oju8iPwmaKd4",
        "outputId": "04a233a3-06f4-4f73-847e-007765bea88b"
      },
      "execution_count": 16,
      "outputs": [
        {
          "output_type": "stream",
          "name": "stdout",
          "text": [
            "     6.1101    17.592\n",
            "0    5.5277   9.13020\n",
            "1    8.5186  13.66200\n",
            "2    7.0032  11.85400\n",
            "3    5.8598   6.82330\n",
            "4    8.3829  11.88600\n",
            "..      ...       ...\n",
            "91   5.8707   7.20290\n",
            "92   5.3054   1.98690\n",
            "93   8.2934   0.14454\n",
            "94  13.3940   9.05510\n",
            "95   5.4369   0.61705\n",
            "\n",
            "[96 rows x 2 columns]\n"
          ]
        }
      ]
    },
    {
      "cell_type": "code",
      "source": [
        "#compute mean of the data\n",
        "mean_value=np.mean(data,axis=0)\n",
        "print(\"Mean Value\")\n",
        "print(mean_value)"
      ],
      "metadata": {
        "colab": {
          "base_uri": "https://localhost:8080/"
        },
        "id": "TVp-gLtOa5Oo",
        "outputId": "fb166510-12ef-40fe-fc4f-1baa0f49aeee"
      },
      "execution_count": 17,
      "outputs": [
        {
          "output_type": "stream",
          "name": "stdout",
          "text": [
            "Mean Value\n",
            "6.1101    8.181151\n",
            "17.592    5.716709\n",
            "dtype: float64\n"
          ]
        }
      ]
    },
    {
      "cell_type": "code",
      "source": [
        "#To obtain standardize value  Subtract mean from the given data.\n",
        "std_value=(data-mean_value)\n",
        "print(\"Standardized values are\")\n",
        "print(std_value)"
      ],
      "metadata": {
        "colab": {
          "base_uri": "https://localhost:8080/"
        },
        "id": "t4CoFBLSiALH",
        "outputId": "4c308b15-9888-4b9a-cf87-20b438a9957a"
      },
      "execution_count": 19,
      "outputs": [
        {
          "output_type": "stream",
          "name": "stdout",
          "text": [
            "Standardized values are\n",
            "      6.1101    17.592\n",
            "0  -2.653451  3.413491\n",
            "1   0.337449  7.945291\n",
            "2  -1.177951  6.137291\n",
            "3  -2.321351  1.106591\n",
            "4   0.201749  6.169291\n",
            "..       ...       ...\n",
            "91 -2.310451  1.486191\n",
            "92 -2.875751 -3.729809\n",
            "93  0.112249 -5.572169\n",
            "94  5.212849  3.338391\n",
            "95 -2.744251 -5.099659\n",
            "\n",
            "[96 rows x 2 columns]\n"
          ]
        }
      ]
    },
    {
      "cell_type": "code",
      "source": [
        "#Calculate the covariance matrix.\n",
        "cov_matrix=np.cov(std_value, rowvar=False)\n",
        "print(cov_matrix)\n",
        "print(\"Shape of covariance matrix :\",cov_matrix.shape)\n",
        "print(\"size of covariance matrix :\",cov_matrix.size)"
      ],
      "metadata": {
        "colab": {
          "base_uri": "https://localhost:8080/"
        },
        "id": "nISCmeTzdm_R",
        "outputId": "9bb4b4c3-4666-49c9-fdfe-a1ff040fe1ce"
      },
      "execution_count": 20,
      "outputs": [
        {
          "output_type": "stream",
          "name": "stdout",
          "text": [
            "[[15.089  18.3112]\n",
            " [18.3112 29.2135]]\n",
            "Shape of covariance matrix : (2, 2)\n",
            "size of covariance matrix : 4\n"
          ]
        }
      ]
    },
    {
      "cell_type": "code",
      "source": [
        "#Calculate the eigen vectors and eigen values of the covariance matrix.\n",
        "eigenvalues,eigenvector=np.linalg.eigh(cov_matrix)\n",
        "print(\"eigenvalues\")\n",
        "print(eigenvalues)\n",
        "print(\"\\neigenvector\")\n",
        "print(eigenvector)"
      ],
      "metadata": {
        "colab": {
          "base_uri": "https://localhost:8080/"
        },
        "id": "OUhjr6RqfqgK",
        "outputId": "7ccda307-58a4-4881-bddf-0f60fbda1b32"
      },
      "execution_count": 21,
      "outputs": [
        {
          "output_type": "stream",
          "name": "stdout",
          "text": [
            "eigenvalues\n",
            "[ 2.5254 41.7771]\n",
            "\n",
            "eigenvector\n",
            "[[-0.8246  0.5658]\n",
            " [ 0.5658  0.8246]]\n"
          ]
        }
      ]
    },
    {
      "cell_type": "code",
      "source": [
        "#sort eigen values and corresponding eigen vectors in descending order\n",
        "sorted_value=np.argsort(eigenvalues)[::-1]\n",
        "eigenvalues=eigenvalues[sorted_value]\n",
        "eigenvector=eigenvector[:,sorted_value]\n",
        "print(eigenvalues)\n",
        "print(eigenvector)"
      ],
      "metadata": {
        "colab": {
          "base_uri": "https://localhost:8080/"
        },
        "id": "YIEaT5RceQVX",
        "outputId": "a4f0d494-928b-4713-b237-2a3acadc6d7f"
      },
      "execution_count": 22,
      "outputs": [
        {
          "output_type": "stream",
          "name": "stdout",
          "text": [
            "[41.7771  2.5254]\n",
            "[[ 0.5658 -0.8246]\n",
            " [ 0.8246  0.5658]]\n"
          ]
        }
      ]
    },
    {
      "cell_type": "code",
      "source": [
        "#choose the number of principle componenets\n",
        "n_components=1\n",
        "selected_eigenvector=eigenvector[:,:n_components]\n",
        "result=np.dot(std_value,selected_eigenvector)\n",
        "print(\"final result\")\n",
        "print(result)"
      ],
      "metadata": {
        "colab": {
          "base_uri": "https://localhost:8080/"
        },
        "id": "o2pUqPvgfHqC",
        "outputId": "9308f577-626f-43dc-b2ce-bf04b958104f"
      },
      "execution_count": 23,
      "outputs": [
        {
          "output_type": "stream",
          "name": "stdout",
          "text": [
            "final result\n",
            "[[ 1.3135]\n",
            " [ 6.7424]\n",
            " [ 4.3942]\n",
            " [-0.4008]\n",
            " [ 5.2012]\n",
            " [-1.5271]\n",
            " [ 5.4056]\n",
            " [-0.2317]\n",
            " [-3.3356]\n",
            " [-3.4298]\n",
            " [11.456 ]\n",
            " [-3.4967]\n",
            " [ 1.3729]\n",
            " [-5.5606]\n",
            " [-3.4023]\n",
            " [-1.3669]\n",
            " [-5.9776]\n",
            " [-2.6936]\n",
            " [-0.8982]\n",
            " [-3.2529]\n",
            " [20.074 ]\n",
            " [-2.7212]\n",
            " [-1.4859]\n",
            " [-3.6523]\n",
            " [20.0425]\n",
            " [ 9.0477]\n",
            " [ 2.6671]\n",
            " [10.2266]\n",
            " [23.1301]\n",
            " [-7.3768]\n",
            " [-0.6697]\n",
            " [ 5.8952]\n",
            " [-4.484 ]\n",
            " [ 0.698 ]\n",
            " [-1.0921]\n",
            " [-1.3678]\n",
            " [-3.373 ]\n",
            " [ 6.2619]\n",
            " [-1.2149]\n",
            " [-5.8245]\n",
            " [-2.2232]\n",
            " [ 1.7221]\n",
            " [-4.0634]\n",
            " [ 0.6354]\n",
            " [-4.4667]\n",
            " [-2.2408]\n",
            " [-4.5397]\n",
            " [ 3.8771]\n",
            " [-5.3679]\n",
            " [ 0.4897]\n",
            " [-4.8226]\n",
            " [-1.6061]\n",
            " [-0.9196]\n",
            " [-4.5859]\n",
            " [-6.9166]\n",
            " [-3.7514]\n",
            " [-2.3552]\n",
            " [-0.8078]\n",
            " [ 0.4704]\n",
            " [-0.0868]\n",
            " [-7.0246]\n",
            " [17.4801]\n",
            " [ 9.0313]\n",
            " [15.446 ]\n",
            " [-1.2304]\n",
            " [ 0.0871]\n",
            " [ 2.8601]\n",
            " [-5.3922]\n",
            " [19.4751]\n",
            " [ 1.9002]\n",
            " [-1.8732]\n",
            " [-4.8902]\n",
            " [-2.4993]\n",
            " [-8.7088]\n",
            " [-5.3932]\n",
            " [-1.8743]\n",
            " [-1.7917]\n",
            " [ 2.0382]\n",
            " [-4.756 ]\n",
            " [-5.7056]\n",
            " [-6.2386]\n",
            " [-5.187 ]\n",
            " [ 2.4045]\n",
            " [-1.2498]\n",
            " [-1.0263]\n",
            " [ 1.4569]\n",
            " [-5.1824]\n",
            " [-6.0938]\n",
            " [-4.1535]\n",
            " [-4.5918]\n",
            " [-1.4796]\n",
            " [-0.0817]\n",
            " [-4.7025]\n",
            " [-4.5312]\n",
            " [ 5.7019]\n",
            " [-5.7576]]\n"
          ]
        }
      ]
    },
    {
      "cell_type": "code",
      "source": [],
      "metadata": {
        "id": "sDcHWbebhG_v"
      },
      "execution_count": null,
      "outputs": []
    }
  ]
}